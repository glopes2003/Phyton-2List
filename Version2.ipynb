{
  "nbformat": 4,
  "nbformat_minor": 0,
  "metadata": {
    "colab": {
      "provenance": [],
      "authorship_tag": "ABX9TyPOBYWjm0eMNbIsS8BligGc",
      "include_colab_link": true
    },
    "kernelspec": {
      "name": "python3",
      "display_name": "Python 3"
    },
    "language_info": {
      "name": "python"
    }
  },
  "cells": [
    {
      "cell_type": "markdown",
      "metadata": {
        "id": "view-in-github",
        "colab_type": "text"
      },
      "source": [
        "<a href=\"https://colab.research.google.com/github/glopes2003/Phyton-2List/blob/main/Version2.ipynb\" target=\"_parent\"><img src=\"https://colab.research.google.com/assets/colab-badge.svg\" alt=\"Open In Colab\"/></a>"
      ]
    },
    {
      "cell_type": "code",
      "execution_count": null,
      "metadata": {
        "id": "wsNoB_Taczxq"
      },
      "outputs": [],
      "source": [
        "# 1\n",
        "n1 = float(input(\"Primeira nota: \"))\n",
        "n2 = float(input(\"Segunda nota: \"))\n",
        "n3 = float(input(\"Terceira nota: \"))\n",
        "n4 = float(input(\"Quarta nota: \"))\n",
        "\n",
        "media = (n1+n2+n3+n4)/4\n",
        "print(f\"A sua média foi {media}.\")\n",
        "if media >= 7 :\n",
        "    print(\"Parabéns, voce foi aprovado!\")\n",
        "else:\n",
        "    print(\"Infelizmente voce foi reprovado\")\n"
      ]
    },
    {
      "cell_type": "code",
      "source": [
        "# 2\n",
        "agenda = {}\n",
        "\n",
        "def add():\n",
        "    nome = str(input(\"Nome: \"))\n",
        "    tel = str(input(\"Telefone: \"))\n",
        "    agenda[nome] = tel\n",
        "    print(\"Contato adicionado com sucesso.\")\n",
        "\n",
        "def list():\n",
        "    print(\"Contatos:\")\n",
        "    for nome, tel in agenda.items():\n",
        "        print(f\"Nome: {nome} Telefone: {tel}\")\n",
        "\n",
        "def search():\n",
        "    nome = str(input(\"Nome do contato que deseja buscar: \"))\n",
        "    if nome in agenda:\n",
        "        print(f\"Nome: {nome} Telefone: {agenda[nome]}\")\n",
        "    else:\n",
        "        print(f\"Contato não encontrado :( \")\n",
        "\n",
        "def remove():\n",
        "    nome = str(input(\"Nome do contato que deseja remover: \"))\n",
        "    if nome in agenda:\n",
        "        del agenda[nome]\n",
        "        print(f\"Contato removido com sucesso!\")\n",
        "    else:\n",
        "        print(f\"Contato não encontrado :(\")\n",
        "\n",
        "while True:\n",
        "    print(\"\\n<<< AGENDA >>>\")\n",
        "    print(\"1 - Adicionar Contato\")\n",
        "    print(\"2 - Listar Contatos\")\n",
        "    print(\"3 - Buscar Contato\")\n",
        "    print(\"4 - Remover Contato\")\n",
        "\n",
        "    opcao = str(input(\"Escolha uma opção: \"))\n",
        "\n",
        "    if opcao == '1':\n",
        "        add()\n",
        "    elif opcao == '2':\n",
        "        list()\n",
        "    elif opcao == '3':\n",
        "        search()\n",
        "    elif opcao == '4':\n",
        "        remove()\n",
        "    else:\n",
        "        print(\"Opção inválida! Por favor, escolha uma opção válida.\")"
      ],
      "metadata": {
        "id": "vtQsNQMLi9IC"
      },
      "execution_count": null,
      "outputs": []
    },
    {
      "cell_type": "code",
      "source": [
        "# 5\n",
        "def convert():\n",
        "  amount = float(input(\"Valor a ser convertido: \"))\n",
        "  conversion = amount * currency_tax\n",
        "  print(f\"Conversão: {conversion}\")\n",
        "\n",
        "while True:\n",
        "  print(\"<<< CÂMBIO REAL BRASILEIRO >>>\")\n",
        "  print(\"1 - EURO\")\n",
        "  print(\"2 - DÓLAR\")\n",
        "\n",
        "  option = str(input(\"Opção escolhida: \"))\n",
        "\n",
        "  if option == \"1\" :\n",
        "    currency_tax = 5.33\n",
        "    convert()\n",
        "\n",
        "  elif option == \"2\":\n",
        "    currency_tax = 5.03\n",
        "    convert()\n",
        "\n",
        "  else:\n",
        "    print(\"Opção inválida! Por favor, escolha uma válida\")\n",
        "\n",
        "\n",
        "\n"
      ],
      "metadata": {
        "id": "Q6eugUFq7pBW"
      },
      "execution_count": null,
      "outputs": []
    },
    {
      "cell_type": "code",
      "source": [
        "# 7\n",
        "\n",
        "import random\n",
        "\n",
        "def guess():\n",
        "    secretNumber = random.randint(1, 10)\n",
        "\n",
        "    print(\"<<< Jogo de Adivinhação >>> \")\n",
        "    print(\"Tente adivinhar o número entre 1 e 10\")\n",
        "\n",
        "    while True:\n",
        "        attempt = 0\n",
        "        attempt = int(input(\"Qual o número? \"))\n",
        "        attempt += 1\n",
        "\n",
        "        if attempt < secretNumber:\n",
        "            print(\"Tente novamente, o número secreto é maior\")\n",
        "        elif attempt > secretNumber:\n",
        "            print(\"Tente novamente, o número secreto é menor\")\n",
        "        else:\n",
        "            print(f\"Parabéns, você adivinhou o número secreto!!!\")\n",
        "            break\n",
        "\n",
        "if __name__ == \"__main__\":\n",
        "    guess()\n"
      ],
      "metadata": {
        "id": "w_GBgBt5GitE"
      },
      "execution_count": null,
      "outputs": []
    },
    {
      "cell_type": "code",
      "source": [
        "# 9\n",
        "# def listMovies():\n",
        "movies = {\n",
        "      1: {\"name\": \"Lorax\", \"session\": [\"10:00\", \"15:00\", \"19:00\"]},\n",
        "      2: {\"name\": \"Os incríveis\", \"session\": [\"14:00\", \"15:30\", \"16:40\"]},\n",
        "      3: {\"name\": \"Procurando Nemo\", \"session\": [\"16:00\", \"17:45\", \"20:00\"]},\n",
        "  }\n",
        "\n",
        "print(movies)\n",
        "\n",
        "# incompletoooooooo\n"
      ],
      "metadata": {
        "id": "Kw-4DpwaYbS3"
      },
      "execution_count": null,
      "outputs": []
    },
    {
      "cell_type": "code",
      "source": [
        "# 8\n",
        "\n",
        "def imc() :\n",
        "  imc = kg/(h*h)\n",
        "  print(f\"O valor do seu IMC é: {imc} \")\n",
        "\n",
        "\n",
        "kg = float(input(\"Informe o seu peso em kg: \"))\n",
        "h = float(input(\"Informe a sua altura: \"))\n",
        "\n",
        "imc()\n",
        "\n",
        "\n"
      ],
      "metadata": {
        "id": "zhYlCv8HF5yn"
      },
      "execution_count": null,
      "outputs": []
    },
    {
      "cell_type": "code",
      "source": [
        "# 4\n",
        "conta = {\n",
        "  \"nome\": \"Giovana\",\n",
        "  \"amount\": 0\n",
        "}\n",
        "\n",
        "def check():\n",
        "  print(f\"Seu saldo atual é de {conta['amount']} reais\")\n",
        "\n",
        "def deposit():\n",
        "  nome = str(input(\"Usuário da Conta: \"))\n",
        "  if nome == conta[\"nome\"] :\n",
        "      amount = float(input(\"Insira o valor que deseja depositar: \"))\n",
        "      conta[\"amount\"] += amount\n",
        "      print(f\"Depósito no valor de {amount} reais realizado com sucesso!\")\n",
        "\n",
        "def remove():\n",
        "  nome = str(input(\"Usuário da Conta: \"))\n",
        "  if nome == conta[\"nome\"] :\n",
        "    amount = float(input(\"Insira o valor que deseja sacar: \"))\n",
        "    conta[\"amount\"] -= amount\n",
        "    print(f\"Você acaba de realizar um saque de {amount} reais\")\n",
        "\n",
        "while True:\n",
        "    print(\"\\n<<< Banco >>>\")\n",
        "    print(\"1 - Checar Saldo\")\n",
        "    print(\"2 - Depositar\")\n",
        "    print(\"3 - Sacar\")\n",
        "\n",
        "    opcao = str(input(\"Escolha uma opção: \"))\n",
        "\n",
        "    if opcao == '1':\n",
        "        check()\n",
        "    elif opcao == '2':\n",
        "        deposit()\n",
        "    elif opcao == '3':\n",
        "        remove()\n",
        "    else:\n",
        "        print(\"Opção inválida! Por favor, escolha uma opção válida.\")"
      ],
      "metadata": {
        "id": "xAPs1qkVHKEx"
      },
      "execution_count": null,
      "outputs": []
    }
  ]
}